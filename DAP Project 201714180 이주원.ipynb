{
 "cells": [
  {
   "cell_type": "markdown",
   "id": "3821d616",
   "metadata": {},
   "source": [
    "# Covid-19 Statistics"
   ]
  },
  {
   "cell_type": "markdown",
   "id": "f6c8183d",
   "metadata": {},
   "source": [
    "## Data Import & View"
   ]
  },
  {
   "cell_type": "markdown",
   "id": "4d52779b",
   "metadata": {},
   "source": [
    "먼저 데이터 활용을 위한 여러 라이브러리들을 탑재합니다.  \n",
    "Numpy, Pandas, Matplotlib, Seaborn과 분류 기계학습을 위한 SKlearn 라이브러리도 탑재해줍니다."
   ]
  },
  {
   "cell_type": "code",
   "execution_count": 1,
   "id": "55ac1cb8",
   "metadata": {
    "ExecuteTime": {
     "end_time": "2021-12-16T07:18:41.740498Z",
     "start_time": "2021-12-16T07:18:37.414837Z"
    },
    "cell_style": "split"
   },
   "outputs": [],
   "source": [
    "import numpy as np  # numpy 탑재\n",
    "import pandas as pd  # pandas탑재\n",
    "import seaborn as sns  # seaborn(데이터 시각화)탑재\n",
    "import matplotlib.pyplot as plt  # matplotlib탑재\n",
    "import os\n",
    "import copy\n",
    "import warnings\n",
    "from os import system\n",
    "from sklearn import tree\n",
    "from sklearn.model_selection import train_test_split as TSplit\n",
    "from sklearn.tree import DecisionTreeClassifier as DTree\n",
    "from sklearn.ensemble import RandomForestClassifier as RFor\n",
    "from sklearn.metrics import accuracy_score as Acc\n",
    "from sklearn.tree import export_graphviz\n",
    "\n",
    "%matplotlib inline\n",
    "warnings.filterwarnings('ignore') # warning 경고문을 보여주지 않음\n",
    "plt.rc(\"font\", family=\"Malgun Gothic\") # plt 사용시 한글 폰트 맑은 고딕 지정"
   ]
  },
  {
   "cell_type": "markdown",
   "id": "bb01d163",
   "metadata": {},
   "source": [
    "데이터는 캐글에 올라와 있는 자료들 중 Covid-19 Case Surveillance Public Use Dataset을 사용하였습니다.  \n",
    "https://www.kaggle.com/arashnic/covid19-case-surveillance-public-use-dataset  \n",
    "이 데이터는 2020년 1월1일부터 11월 19일까지 CDC에 보고된 미국인 확진자 840만명에 대한 데이터 입니다.  \n",
    "데이터를 불러오고, 날짜 정보를 다루기 쉽도록 먼저 datetime 자료형으로 변환해 주겠습니다.  \n",
    "\n",
    "to_datetime메서드까지만 사용하여 저장된 데이터를  \n",
    "data1 = 시계열 정보를 반영하지 않는 분류 학습  \n",
    "data2 = 월별로 구분하여 반영된 분류 학습  \n",
    "을 위해 딥 카피로 복사하여줍니다.  \n",
    "딥 카피를 사용하지 않으면 data 내용을 변경해도 data1내용이 함께 변경되기 때문입니다.  \n",
    "\n",
    "to_datetime메서드만 사용하는 것과, strftime메서드까지 사용하는 것은 비슷해 보이지만 차이점이 있는데,  \n",
    "to_datetime을 사용하면 timestamp형태로 저장된다는 것이고,  \n",
    "strftime메서드는 이것을 원하는 규격의 문자로 다시 바꿔줍니다.  \n",
    "이후 전처리와 학습을 위해서는 규격화된 문자형으로 저장하는것이 다루기 편리합니다.  "
   ]
  },
  {
   "cell_type": "code",
   "execution_count": 2,
   "id": "a77fa49a",
   "metadata": {
    "ExecuteTime": {
     "end_time": "2021-12-16T07:20:30.732858Z",
     "start_time": "2021-12-16T07:18:41.741445Z"
    },
    "scrolled": false
   },
   "outputs": [
    {
     "data": {
      "text/html": [
       "<div>\n",
       "<style scoped>\n",
       "    .dataframe tbody tr th:only-of-type {\n",
       "        vertical-align: middle;\n",
       "    }\n",
       "\n",
       "    .dataframe tbody tr th {\n",
       "        vertical-align: top;\n",
       "    }\n",
       "\n",
       "    .dataframe thead th {\n",
       "        text-align: right;\n",
       "    }\n",
       "</style>\n",
       "<table border=\"1\" class=\"dataframe\">\n",
       "  <thead>\n",
       "    <tr style=\"text-align: right;\">\n",
       "      <th></th>\n",
       "      <th>cdc_report_dt</th>\n",
       "      <th>pos_spec_dt</th>\n",
       "      <th>onset_dt</th>\n",
       "      <th>current_status</th>\n",
       "      <th>sex</th>\n",
       "      <th>age_group</th>\n",
       "      <th>Race and ethnicity (combined)</th>\n",
       "      <th>hosp_yn</th>\n",
       "      <th>icu_yn</th>\n",
       "      <th>death_yn</th>\n",
       "      <th>medcond_yn</th>\n",
       "    </tr>\n",
       "  </thead>\n",
       "  <tbody>\n",
       "    <tr>\n",
       "      <th>0</th>\n",
       "      <td>2020-11-10</td>\n",
       "      <td>2020-11-10</td>\n",
       "      <td>NaN</td>\n",
       "      <td>Laboratory-confirmed case</td>\n",
       "      <td>Male</td>\n",
       "      <td>10 - 19 Years</td>\n",
       "      <td>Black, Non-Hispanic</td>\n",
       "      <td>No</td>\n",
       "      <td>Unknown</td>\n",
       "      <td>No</td>\n",
       "      <td>No</td>\n",
       "    </tr>\n",
       "    <tr>\n",
       "      <th>1</th>\n",
       "      <td>2020-11-14</td>\n",
       "      <td>2020-11-10</td>\n",
       "      <td>2020-11-10</td>\n",
       "      <td>Laboratory-confirmed case</td>\n",
       "      <td>Male</td>\n",
       "      <td>10 - 19 Years</td>\n",
       "      <td>Black, Non-Hispanic</td>\n",
       "      <td>No</td>\n",
       "      <td>No</td>\n",
       "      <td>No</td>\n",
       "      <td>No</td>\n",
       "    </tr>\n",
       "    <tr>\n",
       "      <th>2</th>\n",
       "      <td>2020-11-19</td>\n",
       "      <td>2020-11-10</td>\n",
       "      <td>2020-11-09</td>\n",
       "      <td>Laboratory-confirmed case</td>\n",
       "      <td>Male</td>\n",
       "      <td>10 - 19 Years</td>\n",
       "      <td>Black, Non-Hispanic</td>\n",
       "      <td>No</td>\n",
       "      <td>No</td>\n",
       "      <td>No</td>\n",
       "      <td>No</td>\n",
       "    </tr>\n",
       "    <tr>\n",
       "      <th>3</th>\n",
       "      <td>2020-11-14</td>\n",
       "      <td>2020-11-10</td>\n",
       "      <td>NaN</td>\n",
       "      <td>Laboratory-confirmed case</td>\n",
       "      <td>Male</td>\n",
       "      <td>10 - 19 Years</td>\n",
       "      <td>Black, Non-Hispanic</td>\n",
       "      <td>Missing</td>\n",
       "      <td>Missing</td>\n",
       "      <td>No</td>\n",
       "      <td>Missing</td>\n",
       "    </tr>\n",
       "    <tr>\n",
       "      <th>4</th>\n",
       "      <td>2020-11-13</td>\n",
       "      <td>2020-11-10</td>\n",
       "      <td>2020-11-10</td>\n",
       "      <td>Laboratory-confirmed case</td>\n",
       "      <td>Male</td>\n",
       "      <td>10 - 19 Years</td>\n",
       "      <td>Black, Non-Hispanic</td>\n",
       "      <td>No</td>\n",
       "      <td>No</td>\n",
       "      <td>No</td>\n",
       "      <td>Yes</td>\n",
       "    </tr>\n",
       "    <tr>\n",
       "      <th>...</th>\n",
       "      <td>...</td>\n",
       "      <td>...</td>\n",
       "      <td>...</td>\n",
       "      <td>...</td>\n",
       "      <td>...</td>\n",
       "      <td>...</td>\n",
       "      <td>...</td>\n",
       "      <td>...</td>\n",
       "      <td>...</td>\n",
       "      <td>...</td>\n",
       "      <td>...</td>\n",
       "    </tr>\n",
       "    <tr>\n",
       "      <th>8405074</th>\n",
       "      <td>2020-10-22</td>\n",
       "      <td>NaN</td>\n",
       "      <td>NaN</td>\n",
       "      <td>Probable Case</td>\n",
       "      <td>Missing</td>\n",
       "      <td>30 - 39 Years</td>\n",
       "      <td>Unknown</td>\n",
       "      <td>No</td>\n",
       "      <td>Unknown</td>\n",
       "      <td>No</td>\n",
       "      <td>Missing</td>\n",
       "    </tr>\n",
       "    <tr>\n",
       "      <th>8405075</th>\n",
       "      <td>2020-10-25</td>\n",
       "      <td>NaN</td>\n",
       "      <td>NaN</td>\n",
       "      <td>Laboratory-confirmed case</td>\n",
       "      <td>Missing</td>\n",
       "      <td>30 - 39 Years</td>\n",
       "      <td>Unknown</td>\n",
       "      <td>Missing</td>\n",
       "      <td>Missing</td>\n",
       "      <td>Missing</td>\n",
       "      <td>Missing</td>\n",
       "    </tr>\n",
       "    <tr>\n",
       "      <th>8405076</th>\n",
       "      <td>2020-07-18</td>\n",
       "      <td>NaN</td>\n",
       "      <td>NaN</td>\n",
       "      <td>Laboratory-confirmed case</td>\n",
       "      <td>Missing</td>\n",
       "      <td>30 - 39 Years</td>\n",
       "      <td>Unknown</td>\n",
       "      <td>Missing</td>\n",
       "      <td>Missing</td>\n",
       "      <td>Missing</td>\n",
       "      <td>Missing</td>\n",
       "    </tr>\n",
       "    <tr>\n",
       "      <th>8405077</th>\n",
       "      <td>2020-11-19</td>\n",
       "      <td>NaN</td>\n",
       "      <td>NaN</td>\n",
       "      <td>Laboratory-confirmed case</td>\n",
       "      <td>Missing</td>\n",
       "      <td>30 - 39 Years</td>\n",
       "      <td>Unknown</td>\n",
       "      <td>Missing</td>\n",
       "      <td>Missing</td>\n",
       "      <td>Missing</td>\n",
       "      <td>Missing</td>\n",
       "    </tr>\n",
       "    <tr>\n",
       "      <th>8405078</th>\n",
       "      <td>2020-11-03</td>\n",
       "      <td>NaN</td>\n",
       "      <td>NaN</td>\n",
       "      <td>Laboratory-confirmed case</td>\n",
       "      <td>Missing</td>\n",
       "      <td>30 - 39 Years</td>\n",
       "      <td>Unknown</td>\n",
       "      <td>No</td>\n",
       "      <td>Unknown</td>\n",
       "      <td>No</td>\n",
       "      <td>Missing</td>\n",
       "    </tr>\n",
       "  </tbody>\n",
       "</table>\n",
       "<p>8405079 rows × 11 columns</p>\n",
       "</div>"
      ],
      "text/plain": [
       "        cdc_report_dt pos_spec_dt    onset_dt             current_status  \\\n",
       "0          2020-11-10  2020-11-10         NaN  Laboratory-confirmed case   \n",
       "1          2020-11-14  2020-11-10  2020-11-10  Laboratory-confirmed case   \n",
       "2          2020-11-19  2020-11-10  2020-11-09  Laboratory-confirmed case   \n",
       "3          2020-11-14  2020-11-10         NaN  Laboratory-confirmed case   \n",
       "4          2020-11-13  2020-11-10  2020-11-10  Laboratory-confirmed case   \n",
       "...               ...         ...         ...                        ...   \n",
       "8405074    2020-10-22         NaN         NaN              Probable Case   \n",
       "8405075    2020-10-25         NaN         NaN  Laboratory-confirmed case   \n",
       "8405076    2020-07-18         NaN         NaN  Laboratory-confirmed case   \n",
       "8405077    2020-11-19         NaN         NaN  Laboratory-confirmed case   \n",
       "8405078    2020-11-03         NaN         NaN  Laboratory-confirmed case   \n",
       "\n",
       "             sex      age_group Race and ethnicity (combined)  hosp_yn  \\\n",
       "0           Male  10 - 19 Years           Black, Non-Hispanic       No   \n",
       "1           Male  10 - 19 Years           Black, Non-Hispanic       No   \n",
       "2           Male  10 - 19 Years           Black, Non-Hispanic       No   \n",
       "3           Male  10 - 19 Years           Black, Non-Hispanic  Missing   \n",
       "4           Male  10 - 19 Years           Black, Non-Hispanic       No   \n",
       "...          ...            ...                           ...      ...   \n",
       "8405074  Missing  30 - 39 Years                       Unknown       No   \n",
       "8405075  Missing  30 - 39 Years                       Unknown  Missing   \n",
       "8405076  Missing  30 - 39 Years                       Unknown  Missing   \n",
       "8405077  Missing  30 - 39 Years                       Unknown  Missing   \n",
       "8405078  Missing  30 - 39 Years                       Unknown       No   \n",
       "\n",
       "          icu_yn death_yn medcond_yn  \n",
       "0        Unknown       No         No  \n",
       "1             No       No         No  \n",
       "2             No       No         No  \n",
       "3        Missing       No    Missing  \n",
       "4             No       No        Yes  \n",
       "...          ...      ...        ...  \n",
       "8405074  Unknown       No    Missing  \n",
       "8405075  Missing  Missing    Missing  \n",
       "8405076  Missing  Missing    Missing  \n",
       "8405077  Missing  Missing    Missing  \n",
       "8405078  Unknown       No    Missing  \n",
       "\n",
       "[8405079 rows x 11 columns]"
      ]
     },
     "execution_count": 2,
     "metadata": {},
     "output_type": "execute_result"
    }
   ],
   "source": [
    "data = pd.read_csv('D:\\Python\\core-python-main\\논문\\COVID-19 Serveillence\\COVID-19_Case_Surveillance_Public_Use_Data.csv', low_memory=False)\n",
    "\n",
    "data.cdc_report_dt = pd.to_datetime(data.cdc_report_dt) # CDC 보고일을 datetime자료형으로 변환\n",
    "data.pos_spec_dt = pd.to_datetime(data.pos_spec_dt) # 최초 양성 검체 수집일을 datetime자료형으로 변환\n",
    "data.onset_dt = pd.to_datetime(data.onset_dt) # 발병일 datetime자료형으로 변환\n",
    "\n",
    "data1 = copy.deepcopy(data) #시계열 정보 없이 분류학습\n",
    "data2 = copy.deepcopy(data) #계절별 학습할 데이터\n",
    "\n",
    "data.cdc_report_dt = data.cdc_report_dt.dt.strftime('%Y-%m-%d') # datetime중 년 월 일만 표시\n",
    "data.pos_spec_dt = data.pos_spec_dt.dt.strftime('%Y-%m-%d')\n",
    "data.onset_dt = data.onset_dt.dt.strftime('%Y-%m-%d')\n",
    "\n",
    "data"
   ]
  },
  {
   "cell_type": "markdown",
   "id": "53c39e9a",
   "metadata": {},
   "source": [
    "데이터 정보를 살펴보면 8405079개의 데이터가 있는 것을 볼수 있습니다.  \n",
    "11가지의 특성들이 있고, 자료형은 모두 object형입니다.  \n",
    "cdc_report_dt - CDC 보고일  \n",
    "pos_spec_dt - 최초 양성 검체 수집일  \n",
    "onset_dt - 발병일  \n",
    "current_status - 현 상태  \n",
    "sex - 성별  \n",
    "age_group - 연령대  \n",
    "Race and ethnicity (combined) - 인종/민족  \n",
    "hosp_yn - 입원 여부  \n",
    "icu_yn - 중환자실 입실 여부  \n",
    "death_yn - (COVID-19로 인한)사망 여부  \n",
    "medcond_yn - 환자의 기저질환 또는 위험행동 여부  "
   ]
  },
  {
   "cell_type": "code",
   "execution_count": 3,
   "id": "a60d2a89",
   "metadata": {
    "ExecuteTime": {
     "end_time": "2021-12-16T07:20:30.744572Z",
     "start_time": "2021-12-16T07:20:30.733834Z"
    },
    "cell_style": "split"
   },
   "outputs": [
    {
     "name": "stdout",
     "output_type": "stream",
     "text": [
      "<class 'pandas.core.frame.DataFrame'>\n",
      "RangeIndex: 8405079 entries, 0 to 8405078\n",
      "Data columns (total 11 columns):\n",
      " #   Column                         Dtype \n",
      "---  ------                         ----- \n",
      " 0   cdc_report_dt                  object\n",
      " 1   pos_spec_dt                    object\n",
      " 2   onset_dt                       object\n",
      " 3   current_status                 object\n",
      " 4   sex                            object\n",
      " 5   age_group                      object\n",
      " 6   Race and ethnicity (combined)  object\n",
      " 7   hosp_yn                        object\n",
      " 8   icu_yn                         object\n",
      " 9   death_yn                       object\n",
      " 10  medcond_yn                     object\n",
      "dtypes: object(11)\n",
      "memory usage: 705.4+ MB\n"
     ]
    }
   ],
   "source": [
    "data.info()"
   ]
  },
  {
   "cell_type": "markdown",
   "id": "00aa6971",
   "metadata": {},
   "source": [
    "min()과 max()를 통해 자료의 시작일과 종료일을 확인합니다  "
   ]
  },
  {
   "cell_type": "code",
   "execution_count": 4,
   "id": "8a6a699f",
   "metadata": {
    "ExecuteTime": {
     "end_time": "2021-12-16T07:20:31.643999Z",
     "start_time": "2021-12-16T07:20:30.745549Z"
    },
    "cell_style": "split"
   },
   "outputs": [
    {
     "name": "stdout",
     "output_type": "stream",
     "text": [
      "start date:  2020-01-01\n",
      "finish date:  2020-11-19\n"
     ]
    }
   ],
   "source": [
    "print(\"start date: \", data[\"cdc_report_dt\"].min())\n",
    "print(\"finish date: \", data[\"cdc_report_dt\"].max())"
   ]
  },
  {
   "cell_type": "markdown",
   "id": "91e40002",
   "metadata": {},
   "source": [
    "## Charts"
   ]
  },
  {
   "cell_type": "markdown",
   "id": "da6f2a29",
   "metadata": {},
   "source": [
    "데이터를 시각화해 보겠습니다.  \n",
    "date 변수를 만들고 value_counts를 통해 일일 확진자가 몇명인지 종합합니다.  \n",
    "이 data를 차트화 하면 일일 확진자수를 확인할 수 있는 그래프가 됩니다.  "
   ]
  },
  {
   "cell_type": "code",
   "execution_count": 5,
   "id": "355cd62b",
   "metadata": {
    "ExecuteTime": {
     "end_time": "2021-12-16T07:20:32.546244Z",
     "start_time": "2021-12-16T07:20:31.647902Z"
    },
    "scrolled": true
   },
   "outputs": [
    {
     "data": {
      "image/png": "[encoded data removed]",
      "text/plain": [
       "<Figure size 1440x360 with 1 Axes>"
      ]
     },
     "metadata": {
      "needs_background": "light"
     },
     "output_type": "display_data"
    }
   ],
   "source": [
    "date = pd.DataFrame(data.value_counts('cdc_report_dt')) # CDC보고일마다 환자가 몇명 발생했는지 종합하여 date에 저장\n",
    "date = date.sort_index() # date를 날짜순으로 정렬하여 저장\n",
    "date[0].plot(title='CDC에 보고된 확진자', figsize=(20,5)) #선형그래프 표시\n",
    "plt.xlabel(\"보고일\") # x축 이름\n",
    "plt.ylabel(\"확진자\") # y축 이름\n",
    "plt.show()"
   ]
  },
  {
   "cell_type": "markdown",
   "id": "97d16bab",
   "metadata": {},
   "source": [
    "이번에는 특성중 하나인 인종을 활용하여 그래프를 그려보겠습니다.  \n",
    "unique()를 통해 백인, 흑인, 황인등 매우 다양한 인종이 포함되어 있다는 것을 확인할 수 있습니다.  \n",
    "특이한 점은 모두 Non-Hispanic이라는 문구가 붙어있는데,  \n",
    "이는 히스패닉 인종의 기원이 매우 다양하기 때문으로, 조상중에 백인이나 흑인등이 포함되어있더라도  \n",
    "\"백인 조상의 혈통을 지닌 히스패닉\" 이라고 인식하기 때문입니다.  \n",
    "따라서 이 자료에서는 '히스패닉이 아닌 흑인'과 '흑인 혈통을 지닌 히스패닉'의 방식으로 구분하고 있습니다.  "
   ]
  },
  {
   "cell_type": "code",
   "execution_count": 6,
   "id": "dc972096",
   "metadata": {
    "ExecuteTime": {
     "end_time": "2021-12-16T07:20:32.794385Z",
     "start_time": "2021-12-16T07:20:32.547220Z"
    },
    "scrolled": true
   },
   "outputs": [
    {
     "data": {
      "text/plain": [
       "array(['Black, Non-Hispanic', 'White, Non-Hispanic', 'Unknown',\n",
       "       'Asian, Non-Hispanic',\n",
       "       'American Indian/Alaska Native, Non-Hispanic',\n",
       "       'Multiple/Other, Non-Hispanic', 'Missing',\n",
       "       'Native Hawaiian/Other Pacific Islander, Non-Hispanic',\n",
       "       'Hispanic/Latino', nan], dtype=object)"
      ]
     },
     "execution_count": 6,
     "metadata": {},
     "output_type": "execute_result"
    }
   ],
   "source": [
    "data['Race and ethnicity (combined)'].unique()"
   ]
  },
  {
   "cell_type": "markdown",
   "id": "3cfb74c3",
   "metadata": {},
   "source": [
    "결측치인 Unknown을 제외하면, 백인, 히스패닉, 흑인 순서대로 많습니다. "
   ]
  },
  {
   "cell_type": "code",
   "execution_count": 7,
   "id": "63f32900",
   "metadata": {
    "ExecuteTime": {
     "end_time": "2021-12-16T07:20:33.406835Z",
     "start_time": "2021-12-16T07:20:32.795360Z"
    }
   },
   "outputs": [
    {
     "data": {
      "image/png": "[encoded data removed]",
      "text/plain": [
       "<Figure size 1152x360 with 1 Axes>"
      ]
     },
     "metadata": {
      "needs_background": "light"
     },
     "output_type": "display_data"
    }
   ],
   "source": [
    "race = pd.DataFrame(data.value_counts('Race and ethnicity (combined)')) # 인종별 환자가 몇명 발생했는지 확인하여 데이터 프레임 삽입\n",
    "race = race.sort_index() # 인덱스의 이름(알파벳) 순서대로 정렬하여 저장\n",
    "plt.figure(figsize=(16,5)) # 그래프 크기 조정\n",
    "plt.bar(range(len(race)), race[0], width=0.5) # 바 그래프 생성, x축은 race의 인덱스 갯수만큼 간격, y축은 race의 내용(칼럼이름 0) = 확진자 보고수량\n",
    "plt.title(\"확진자 인종\") # 제목\n",
    "plt.xlabel(\"인종\") # x축 이름\n",
    "plt.ylabel(\"확진자 수\") # y축 이름\n",
    "plt.xticks(range(len(race)), race.index, rotation = 45) # x축 단위간격들의 이름이 너무 길기 때문에, 45도로 돌려서 표기\n",
    "plt.show() # show명령으로 표시하면 계산 내용은 감춤"
   ]
  },
  {
   "cell_type": "markdown",
   "id": "7e0336f9",
   "metadata": {},
   "source": [
    "연령대의 경우에는 20, 30대가 가장 많았습니다."
   ]
  },
  {
   "cell_type": "code",
   "execution_count": 8,
   "id": "5adef554",
   "metadata": {
    "ExecuteTime": {
     "end_time": "2021-12-16T07:20:34.057827Z",
     "start_time": "2021-12-16T07:20:33.408788Z"
    },
    "scrolled": false
   },
   "outputs": [
    {
     "data": {
      "image/png": "[encoded data removed]",
      "text/plain": [
       "<Figure size 1152x360 with 1 Axes>"
      ]
     },
     "metadata": {
      "needs_background": "light"
     },
     "output_type": "display_data"
    }
   ],
   "source": [
    "age = pd.DataFrame(data.value_counts('age_group')) # 연령별 환자가 몇명 발생했는지 확인하여 데이터 프레임 삽입\n",
    "age = age.sort_index() # 연령 순서대로 정렬하여 저장\n",
    "plt.figure(figsize=(16, 5)) # 그래프 크기 조정\n",
    "plt.bar(range(len(age)), age[0], width=0.5) # 바 그래프 생성, x축은 age의 인덱스 갯수만큼 간격, y축은 age의 내용(칼럼이름 0) = 확진자 보고수량\n",
    "plt.title(\"확진자 연령대\") # 제목\n",
    "plt.xlabel(\"연령대\") # x축 이름\n",
    "plt.ylabel(\"확진자 수\") # y축 이름\n",
    "plt.xticks(range(len(age)), age.index, rotation = 45) # x축 단위간격들의 이름이 너무 길기 때문에, 45도로 돌려서 표기\n",
    "plt.show() # show명령으로 표시하면 계산 내용은 감춤"
   ]
  },
  {
   "cell_type": "markdown",
   "id": "1add992a",
   "metadata": {
    "ExecuteTime": {
     "end_time": "2021-12-12T13:58:38.566360Z",
     "start_time": "2021-12-12T13:58:38.548791Z"
    }
   },
   "source": [
    "성별, 입원, 사망률의 비율입니다."
   ]
  },
  {
   "cell_type": "code",
   "execution_count": 9,
   "id": "5c025574",
   "metadata": {
    "ExecuteTime": {
     "end_time": "2021-12-16T07:20:36.005336Z",
     "start_time": "2021-12-16T07:20:34.059781Z"
    },
    "scrolled": false
   },
   "outputs": [
    {
     "data": {
      "text/plain": [
       "<matplotlib.legend.Legend at 0x2450f1e0910>"
      ]
     },
     "execution_count": 9,
     "metadata": {},
     "output_type": "execute_result"
    },
    {
     "data": {
      "image/png": "[encoded data removed]",
      "text/plain": [
       "<Figure size 1224x360 with 3 Axes>"
      ]
     },
     "metadata": {},
     "output_type": "display_data"
    }
   ],
   "source": [
    "sex = pd.DataFrame(data.value_counts('sex')) # 성별 별 확진자수\n",
    "hospital = pd.DataFrame(data.value_counts('hosp_yn')) # 확진자의 병원 입원 여부\n",
    "death = pd.DataFrame(data.value_counts('death_yn')) # 사망자 수\n",
    "plt.figure(figsize=(17,5)) # 파이차트 크기\n",
    "\n",
    "plt.subplot(131) # 1행 3열 크기 1번칸\n",
    "plt.title(\"확진자 성별\") # 제목\n",
    "plt.pie(sex[0], labels=None, autopct='%.2f%%', startangle=90, counterclock=False) # 내용(컬럼 0)삽입, 차트에는 레이블 없음, 소수점2자리까지, 각도90도\n",
    "plt.legend(title='Sex', labels=sex.index, loc='upper right') # 범례 내용 - 제목, 인덱스목록(범주들 이름), 범례 위치\n",
    "\n",
    "plt.subplot(132) # 1행 3열 크기 2번칸\n",
    "plt.title(\"환자의 병원 입원 여부\")\n",
    "plt.pie(hospital[0], labels=None, autopct='%.2f%%', startangle=90, counterclock=False)\n",
    "plt.legend(title='Hospitalized', labels=hospital.index, loc='upper right')\n",
    "\n",
    "plt.subplot(133)\n",
    "plt.title(\"사망률\") # 1행 3열 크기 3번칸\n",
    "plt.pie(death[0], labels=None, autopct='%.2f%%', startangle=90, counterclock=False)\n",
    "plt.legend(title='Death', labels=death.index, loc='upper right')"
   ]
  },
  {
   "cell_type": "markdown",
   "id": "5efe0ff0",
   "metadata": {},
   "source": [
    "## Data Preprocessing"
   ]
  },
  {
   "cell_type": "markdown",
   "id": "07b99275",
   "metadata": {},
   "source": [
    "데이터를 가지고 학습하려면 전처리가 적절히 진행 되어야 합니다.  \n",
    "결측치가 얼마나 있는지 확인하겠습니다.  "
   ]
  },
  {
   "cell_type": "code",
   "execution_count": 10,
   "id": "7176bfd3",
   "metadata": {
    "ExecuteTime": {
     "end_time": "2021-12-16T07:20:38.745741Z",
     "start_time": "2021-12-16T07:20:36.006313Z"
    },
    "scrolled": false
   },
   "outputs": [
    {
     "name": "stdout",
     "output_type": "stream",
     "text": [
      "cdc_report_dt                          0\n",
      "pos_spec_dt                      5534290\n",
      "onset_dt                         4009122\n",
      "current_status                         0\n",
      "sex                                   18\n",
      "age_group                             89\n",
      "Race and ethnicity (combined)          7\n",
      "hosp_yn                                0\n",
      "icu_yn                                 0\n",
      "death_yn                               0\n",
      "medcond_yn                             0\n",
      "dtype: int64\n"
     ]
    }
   ],
   "source": [
    "print(data.isnull().sum())"
   ]
  },
  {
   "cell_type": "markdown",
   "id": "6d253e19",
   "metadata": {},
   "source": [
    "학습할 데이터에서 양성검체 수집일과 증상발현일(발병일)은 결측치가 너무 많아(50% 이상) 삭제하였습니다.  \n",
    "(CDC 보고일로 대체 가능)  \n",
    "기저질환 여부는 이상값이 매우 많고 다양하여 코로나와의 직접적인 상관관계를 검증할 수 없으므로 삭제하였습니다.  "
   ]
  },
  {
   "cell_type": "code",
   "execution_count": 11,
   "id": "5d3c9681",
   "metadata": {
    "ExecuteTime": {
     "end_time": "2021-12-16T07:20:40.008604Z",
     "start_time": "2021-12-16T07:20:38.746718Z"
    },
    "scrolled": true
   },
   "outputs": [],
   "source": [
    "data1 = data1.drop([\"pos_spec_dt\", \"onset_dt\", \"medcond_yn\"], axis=1)\n",
    "data2 = data2.drop([\"pos_spec_dt\", \"onset_dt\", \"medcond_yn\"], axis=1)"
   ]
  },
  {
   "cell_type": "markdown",
   "id": "a4e13508",
   "metadata": {},
   "source": [
    "디시전 트리모델이 학습하기 쉽도록 모든 내용을 숫자형으로 바꿔주는 Label Encoding을 진행합니다.  \n",
    "data1은 시계열 정보 없이 분류 학습을 진행할 데이터 세트이므로, 시계열 정보는 전처리 하지 않습니다.  \n",
    "또한 Unknown, Missing, Other등의 이상값 및 NaN으로 표시된 결측치를 포함한 행은 모두 제거합니다.  "
   ]
  },
  {
   "cell_type": "code",
   "execution_count": 12,
   "id": "366869a4",
   "metadata": {
    "ExecuteTime": {
     "end_time": "2021-12-16T07:20:45.854235Z",
     "start_time": "2021-12-16T07:20:40.009580Z"
    }
   },
   "outputs": [],
   "source": [
    "data1['current_status'] = data1['current_status'].map({\n",
    "    'Laboratory-confirmed case' : 0,\n",
    "    'Probable Case' : 1,\n",
    "})\n",
    "data1['sex'] = data1['sex'].map({\n",
    "    'Male' : 0,\n",
    "    'Female' : 1,\n",
    "})\n",
    "\n",
    "# 문자열 변환을 위해 각 연령대를 의미하는 숫자로 변환\n",
    "data1['age_group'] = data1['age_group'].map({\n",
    "    '0 - 9 Years' : 0,\n",
    "    '10 - 19 Years' : 10,\n",
    "    '20 - 29 Years' : 20,\n",
    "    '30 - 39 Years' : 30,\n",
    "    '40 - 49 Years' : 40,\n",
    "    '50 - 59 Years' : 50,\n",
    "    '60 - 69 Years' : 60,\n",
    "    '70 - 79 Years' : 70,\n",
    "    '80+ Years' : 80,\n",
    "})\n",
    "\n",
    "data1['Race and ethnicity (combined)'] = data1['Race and ethnicity (combined)'].map({\n",
    "    'White, Non-Hispanic' : 0,\n",
    "    'Hispanic/Latino' : 1,\n",
    "    'Black, Non-Hispanic' : 2,\n",
    "    'Asian, Non-Hispanic' : 3,\n",
    "    'Multiple/Other, Non-Hispanic' : 4,\n",
    "    'Native Hawaiian/Other Pacific Islander, Non-Hispanic' : 5,\n",
    "    'American Indian/Alaska Native, Non-Hispanic' : 6,\n",
    "})\n",
    "data1['hosp_yn'] = data1['hosp_yn'].map({\n",
    "    'No' : 0,\n",
    "    'Yes' : 1,\n",
    "})\n",
    "data1['icu_yn'] = data1['icu_yn'].map({\n",
    "    'No' : 0,\n",
    "    'Yes' : 1,\n",
    "})\n",
    "data1['death_yn'] = data1['death_yn'].map({\n",
    "    'No' : 0,\n",
    "    'Yes' : 1,\n",
    "})\n",
    "data1 = data1.replace('Unknown', np.NaN)\n",
    "data1 = data1.replace('Missing', np.NaN)\n",
    "data1 = data1.replace('Other', np.NaN)\n",
    "data1 = data1.dropna(axis = 0) \n",
    "#자료 내부에 이상값을 전부 제외 = nan"
   ]
  },
  {
   "cell_type": "markdown",
   "id": "b5f91715",
   "metadata": {},
   "source": [
    "data2는 시계열 정보를 포함하여 계절별로 학습할 것이기 때문에, 월 정보만 strftime를 통해 변환합니다.  \n",
    "월만 남겨두고 숫자형으로 변환하여 사용하고, 나머지 조건은 data1과 똑같습니다.  "
   ]
  },
  {
   "cell_type": "code",
   "execution_count": 13,
   "id": "25546d07",
   "metadata": {
    "ExecuteTime": {
     "end_time": "2021-12-16T07:21:30.891160Z",
     "start_time": "2021-12-16T07:20:45.855211Z"
    }
   },
   "outputs": [],
   "source": [
    "data2.cdc_report_dt = data2.cdc_report_dt.dt.strftime('%m')"
   ]
  },
  {
   "cell_type": "code",
   "execution_count": 14,
   "id": "f141db47",
   "metadata": {
    "ExecuteTime": {
     "end_time": "2021-12-16T07:21:38.931297Z",
     "start_time": "2021-12-16T07:21:30.892136Z"
    }
   },
   "outputs": [],
   "source": [
    "data2['cdc_report_dt'] = data2['cdc_report_dt'].map({\n",
    "    '01' : 1,\n",
    "    '02' : 2,\n",
    "    '03' : 3,\n",
    "    '04' : 4,\n",
    "    '05' : 5,\n",
    "    '06' : 6,\n",
    "    '07' : 7,\n",
    "    '08' : 8,\n",
    "    '09' : 9,\n",
    "    '10' : 10,\n",
    "    '11' : 11,\n",
    "}) # 월 표시를 문자 > 숫자로\n",
    "data2['current_status'] = data2['current_status'].map({\n",
    "    'Laboratory-confirmed case' : 0,\n",
    "    'Probable Case' : 1,\n",
    "})\n",
    "data2['sex'] = data2['sex'].map({\n",
    "    'Male' : 0,\n",
    "    'Female' : 1,\n",
    "})\n",
    "data2['age_group'] = data2['age_group'].map({\n",
    "    '0 - 9 Years' : 0,\n",
    "    '10 - 19 Years' : 10,\n",
    "    '20 - 29 Years' : 20,\n",
    "    '30 - 39 Years' : 30,\n",
    "    '40 - 49 Years' : 40,\n",
    "    '50 - 59 Years' : 50,\n",
    "    '60 - 69 Years' : 60,\n",
    "    '70 - 79 Years' : 70,\n",
    "    '80+ Years' : 80,\n",
    "}) # 문자열 변환을 위해 각 연령대를 의미하는 숫자로 변환\n",
    "data2['Race and ethnicity (combined)'] = data2['Race and ethnicity (combined)'].map({\n",
    "    'White, Non-Hispanic' : 0,\n",
    "    'Hispanic/Latino' : 1,\n",
    "    'Black, Non-Hispanic' : 2,\n",
    "    'Asian, Non-Hispanic' : 3,\n",
    "    'Multiple/Other, Non-Hispanic' : 4,\n",
    "    'Native Hawaiian/Other Pacific Islander, Non-Hispanic' : 5,\n",
    "    'American Indian/Alaska Native, Non-Hispanic' : 6,\n",
    "})\n",
    "data2['hosp_yn'] = data2['hosp_yn'].map({\n",
    "    'No' : 0,\n",
    "    'Yes' : 1,\n",
    "})\n",
    "data2['icu_yn'] = data2['icu_yn'].map({\n",
    "    'No' : 0,\n",
    "    'Yes' : 1,\n",
    "})\n",
    "data2['death_yn'] = data2['death_yn'].map({\n",
    "    'No' : 0,\n",
    "    'Yes' : 1,\n",
    "})\n",
    "data2 = data2.replace('Unknown', np.NaN)\n",
    "data2 = data2.replace('Missing', np.NaN)\n",
    "data2 = data2.replace('Other', np.NaN)\n",
    "data2 = data2.dropna(axis = 0) \n",
    "#자료 내부에 이상값을 전부 제외"
   ]
  },
  {
   "cell_type": "markdown",
   "id": "cecc0e4f",
   "metadata": {},
   "source": [
    "다시 결측치를 확인해 보면 모두 없어진 것을 확인할 수 있습니다."
   ]
  },
  {
   "cell_type": "code",
   "execution_count": 15,
   "id": "8310ed49",
   "metadata": {
    "ExecuteTime": {
     "end_time": "2021-12-16T07:21:38.968386Z",
     "start_time": "2021-12-16T07:21:38.932273Z"
    },
    "scrolled": false
   },
   "outputs": [
    {
     "name": "stdout",
     "output_type": "stream",
     "text": [
      "cdc_report_dt                    0\n",
      "current_status                   0\n",
      "sex                              0\n",
      "age_group                        0\n",
      "Race and ethnicity (combined)    0\n",
      "hosp_yn                          0\n",
      "icu_yn                           0\n",
      "death_yn                         0\n",
      "dtype: int64\n",
      "cdc_report_dt                    0\n",
      "current_status                   0\n",
      "sex                              0\n",
      "age_group                        0\n",
      "Race and ethnicity (combined)    0\n",
      "hosp_yn                          0\n",
      "icu_yn                           0\n",
      "death_yn                         0\n",
      "dtype: int64\n"
     ]
    }
   ],
   "source": [
    "print(data1.isnull().sum())\n",
    "print(data2.isnull().sum())"
   ]
  },
  {
   "cell_type": "markdown",
   "id": "6e607e01",
   "metadata": {},
   "source": [
    "## Machine Learning Classification"
   ]
  },
  {
   "cell_type": "markdown",
   "id": "beb7346c",
   "metadata": {},
   "source": [
    "이제 학습을 진행해 보겠습니다.  \n",
    "사용할 모델은 지도학습 - 분류의 랜덤포레스트 알고리즘 입니다.  \n",
    "랜덤 포레스트 알고리즘은 디시전 트리를 여러개 만들어 종합하는 앙상블 기법을 사용합니다.  \n",
    "먼저 데이터를 학습용과 테스트용으로 분할합니다 (3:1 비율)  \n",
    "data1의 경우 시계열 정보를 활용하지 않기 때문에, CDC보고일 특성도 제외시킵니다.  "
   ]
  },
  {
   "cell_type": "code",
   "execution_count": 16,
   "id": "8ba7b817",
   "metadata": {
    "ExecuteTime": {
     "end_time": "2021-12-16T07:21:39.127474Z",
     "start_time": "2021-12-16T07:21:38.971313Z"
    }
   },
   "outputs": [
    {
     "name": "stdout",
     "output_type": "stream",
     "text": [
      "(590974, 6) (443230, 6) (147744, 6)\n"
     ]
    }
   ],
   "source": [
    "train_data1 = data1.drop(['cdc_report_dt', 'death_yn'], axis=1) # 시계열 특성과 레이블인 사망여부 제외\n",
    "target_data1 = data1['death_yn'] # 레이블은 따로 저장함\n",
    "\n",
    "x_train, x_test, y_train, y_test = TSplit(train_data1, target_data1, random_state=42)\n",
    "# 각각 75 : 25 비율로 랜덤분할하여 넣고 랜덤시드는 42 고정\n",
    "\n",
    "print(train_data1.shape, x_train.shape, x_test.shape)"
   ]
  },
  {
   "cell_type": "markdown",
   "id": "e9350e8c",
   "metadata": {},
   "source": [
    "데이터 분할이 완료되었으니, 학습 세트를 이용하여 랜덤포레스트 모델을 학습시켜 보겠습니다.  \n",
    "랜덤 포레스트 모델을 디시전 트리를 여러개 만들어 사용하는데,  \n",
    "n_estimators 속성을 사용하면 디시전 트리를 몇개 만들어 종합할 것인지 정할 수 있습니다.  "
   ]
  },
  {
   "cell_type": "code",
   "execution_count": 17,
   "id": "34cb08c0",
   "metadata": {
    "ExecuteTime": {
     "end_time": "2021-12-16T07:21:46.085441Z",
     "start_time": "2021-12-16T07:21:39.128449Z"
    },
    "scrolled": true
   },
   "outputs": [
    {
     "name": "stdout",
     "output_type": "stream",
     "text": [
      "training set accuracy: 0.9525708999842069\n",
      "test set accuracy: 0.9520928091834524\n"
     ]
    }
   ],
   "source": [
    "forest1 = RFor(n_estimators = 20) # 랜덤포레스트 가지갯수 20개\n",
    "forest1.fit(x_train, y_train) # 학습하자!\n",
    "\n",
    "forest1.predict(x_test) # 학습 세트로 학습된 모델에 테스트 세트 사용\n",
    "\n",
    "print('training set accuracy:', forest1.score(x_train, y_train)) # train(75%)셋 예측 정확도\n",
    "print('test set accuracy:', forest1.score(x_test, y_test)) # test(25%)셋의 예측 정확도"
   ]
  },
  {
   "cell_type": "markdown",
   "id": "e50dbfe1",
   "metadata": {},
   "source": [
    "학습 결과 훈련세트의 예측 정확도와 테스트세트의 예측 정확도가 매우 유사합니다.  \n",
    "이런 경우, 훈련세트로 학습된 랜덤 포레스트 모델이 잘 일반화 되었다고 볼 수 있습니다.  "
   ]
  },
  {
   "cell_type": "markdown",
   "id": "e77a96d9",
   "metadata": {},
   "source": [
    "학습된 모델의 feature_importances와 모델이 예측한 사망률을 시각화 해 보겠습니다.  \n",
    "feature_importances는 학습에 사용된 특성의 중요도로써, 모델 학습에 얼마나 영향을 끼쳤는지 나타냅니다.  \n",
    "현재 중요도는 중환자실(집중치료실) 입실 여부가 가장 크고, 그 다음으로 연령대와 병원 입원 여부가 뒤따랐습니다.  "
   ]
  },
  {
   "cell_type": "code",
   "execution_count": 18,
   "id": "963836b6",
   "metadata": {
    "ExecuteTime": {
     "end_time": "2021-12-16T07:21:47.297210Z",
     "start_time": "2021-12-16T07:21:46.087393Z"
    }
   },
   "outputs": [
    {
     "name": "stdout",
     "output_type": "stream",
     "text": [
      "Feature: 0, Score: 0.0010\n",
      "Feature: 1, Score: 0.0061\n",
      "Feature: 2, Score: 0.2496\n",
      "Feature: 3, Score: 0.0195\n",
      "Feature: 4, Score: 0.2553\n",
      "Feature: 5, Score: 0.4685\n"
     ]
    },
    {
     "data": {
      "text/plain": [
       "<matplotlib.legend.Legend at 0x2458a993820>"
      ]
     },
     "execution_count": 18,
     "metadata": {},
     "output_type": "execute_result"
    },
    {
     "data": {
      "image/png": "[encoded data removed]",
      "text/plain": [
       "<Figure size 1440x360 with 2 Axes>"
      ]
     },
     "metadata": {
      "needs_background": "light"
     },
     "output_type": "display_data"
    }
   ],
   "source": [
    "fimportance1 = forest1.feature_importances_ # 트리에서 각 요소별 중요도 뽑기\n",
    "fcolname1 = x_train.columns.to_numpy() # x_train의 칼럼명을 뽑아와서 넣어주자\n",
    "for x,y in enumerate(fimportance1):\n",
    "    print('Feature: %0d, Score: %.4f' % (x,y)) # 중요도를 수치로 보여준다\n",
    "\n",
    "plt.figure(figsize=(20,5)) # 파이차트 크기\n",
    "plt.subplot(121) # 1행 2열 크기 1번칸\n",
    "plt.title(\"각 특성의 feature_importances\")\n",
    "plt.bar(range(len(fimportance1)), fimportance1, width=0.75) # 바 갯수는 중요도 갯수만큼, 수치는 중요도만큼\n",
    "plt.xticks(range(len(fcolname1)), fcolname1, rotation = 90) # x축 단위간격들의 이름이 너무 길기 때문에, 90도로 돌려서 표기\n",
    "\n",
    "# 학습되어 있는 모델에 데이터를 넣어보자.\n",
    "death1 = pd.DataFrame(pd.DataFrame(forest1.predict(train_data1))[0].value_counts())\n",
    "plt.subplot(122) # 1행 2열 크기 2번칸\n",
    "plt.title(\"모델이 예측한 사망률\")\n",
    "plt.pie(death1[0], labels=None, autopct='%.2f%%', startangle=90, counterclock=False)\n",
    "plt.legend(title='Death', labels=[\"Alive\", \"Dead\"], loc='upper right')\n",
    "\n",
    "# 기존 데이터 사망률 2.18"
   ]
  },
  {
   "cell_type": "markdown",
   "id": "a5a0add0",
   "metadata": {},
   "source": [
    "## Machine Learning - Time series"
   ]
  },
  {
   "cell_type": "markdown",
   "id": "67fc4e69",
   "metadata": {},
   "source": [
    "이번에는 시계열 정보를 활용하여 학습을 진행해 보겠습니다.  \n",
    "CDC보고일을 drop시키지 않은 데이터를 다시 분할하여 사용해 주어야 합니다.  "
   ]
  },
  {
   "cell_type": "code",
   "execution_count": 19,
   "id": "a4c50cc6",
   "metadata": {
    "ExecuteTime": {
     "end_time": "2021-12-16T07:21:47.496314Z",
     "start_time": "2021-12-16T07:21:47.298185Z"
    }
   },
   "outputs": [
    {
     "name": "stdout",
     "output_type": "stream",
     "text": [
      "(590974, 7) (443230, 7) (147744, 7) (590974,)\n"
     ]
    }
   ],
   "source": [
    "train_data2 = data2.drop(['death_yn'], axis=1) # 시계열 특성과 레이블인 사망여부 제외\n",
    "target_data2 = data2['death_yn'] # 레이블은 따로 저장함\n",
    "\n",
    "x_train, x_test, y_train, y_test = TSplit(train_data2, target_data2, random_state=42)\n",
    "# 각각 75 : 25 비율로 랜덤분할하여 넣고 랜덤시드는 42 고정\n",
    "\n",
    "print(train_data2.shape, x_train.shape, x_test.shape, target_data2.shape)"
   ]
  },
  {
   "cell_type": "markdown",
   "id": "5c83e445",
   "metadata": {},
   "source": [
    "이번에도 똑같이 20개의 디시전 트리를 앙상블하여 학습합니다."
   ]
  },
  {
   "cell_type": "code",
   "execution_count": 20,
   "id": "66965729",
   "metadata": {
    "ExecuteTime": {
     "end_time": "2021-12-16T07:21:56.261172Z",
     "start_time": "2021-12-16T07:21:47.497292Z"
    }
   },
   "outputs": [
    {
     "name": "stdout",
     "output_type": "stream",
     "text": [
      "training set accuracy: 0.9568327956140154\n",
      "test set accuracy: 0.9552536820446177\n"
     ]
    }
   ],
   "source": [
    "forest2 = RFor(n_estimators = 20) # 랜덤포레스트 가지갯수 20개\n",
    "forest2.fit(x_train, y_train) # 학습하자!\n",
    "\n",
    "forest2.predict(x_test) # 학습 세트로 학습된 모델에 테스트 세트 사용\n",
    "\n",
    "print('training set accuracy:', forest2.score(x_train, y_train)) # train(75%)셋 예측 정확도\n",
    "print('test set accuracy:', forest2.score(x_test, y_test)) # test(25%)셋의 예측 정확도"
   ]
  },
  {
   "cell_type": "markdown",
   "id": "fdb13563",
   "metadata": {},
   "source": [
    "feature_importances를 확인하면 시계열 특성(CDC보고일)이 4번째로 중요하게 학습되었다는 것을 확인할 수 있습니다.  \n",
    "모델의 학습에 있어서 시계열 정보가 일정량 이상의 영향력을 가지고 있다는 것을 보여줍니다.  "
   ]
  },
  {
   "cell_type": "code",
   "execution_count": 21,
   "id": "3ead4392",
   "metadata": {
    "ExecuteTime": {
     "end_time": "2021-12-16T07:21:57.723803Z",
     "start_time": "2021-12-16T07:21:56.262148Z"
    },
    "scrolled": false
   },
   "outputs": [
    {
     "name": "stdout",
     "output_type": "stream",
     "text": [
      "Feature: 0, Score: 0.1033\n",
      "Feature: 1, Score: 0.0020\n",
      "Feature: 2, Score: 0.0089\n",
      "Feature: 3, Score: 0.2667\n",
      "Feature: 4, Score: 0.0287\n",
      "Feature: 5, Score: 0.2601\n",
      "Feature: 6, Score: 0.3302\n"
     ]
    },
    {
     "data": {
      "text/plain": [
       "<matplotlib.legend.Legend at 0x2450f304130>"
      ]
     },
     "execution_count": 21,
     "metadata": {},
     "output_type": "execute_result"
    },
    {
     "data": {
      "image/png": "[encoded data removed]",
      "text/plain": [
       "<Figure size 1440x360 with 2 Axes>"
      ]
     },
     "metadata": {
      "needs_background": "light"
     },
     "output_type": "display_data"
    }
   ],
   "source": [
    "fimportance2 = forest2.feature_importances_ # 트리에서 각 요소별 중요도 뽑기\n",
    "fcolname2 = x_train.columns.to_numpy() # x_train의 칼럼명을 뽑아와서 넣어주자\n",
    "\n",
    "for x,y in enumerate(fimportance2):\n",
    "    print('Feature: %0d, Score: %.4f' % (x,y)) # 중요도를 수치로 보여준다\n",
    "\n",
    "plt.figure(figsize=(20,5)) # 파이차트 크기\n",
    "plt.subplot(121) # 1행 2열 크기 1번칸\n",
    "plt.title(\"각 특성의 feature_importances\")\n",
    "plt.bar(range(len(fimportance2)), fimportance2, width=0.75) # 바 갯수는 중요도 갯수만큼, 수치는 중요도만큼\n",
    "plt.xticks(range(len(fcolname2)), fcolname2, rotation = 90) # x축 단위간격들의 이름이 너무 길기 때문에, 90도로 돌려서 표기\n",
    "\n",
    "# 학습되어 있는 모델에 데이터를 넣어보자.\n",
    "death2 = pd.DataFrame(pd.DataFrame(forest2.predict(train_data2))[0].value_counts())\n",
    "                      \n",
    "plt.subplot(122) # 1행 2열 크기 2번칸\n",
    "plt.title(\"모델이 예측한 사망률\")\n",
    "plt.pie(death2[0], labels=None, autopct='%.2f%%', startangle=90, counterclock=False)\n",
    "plt.legend(title='Death', labels=[\"Alive\", \"Dead\"], loc='upper right')\n",
    "\n",
    "# 기존 데이터 사망률 2.18"
   ]
  },
  {
   "cell_type": "markdown",
   "id": "f7b139f9",
   "metadata": {},
   "source": [
    "본래 데이터를 계절별로 분류하고 forest2모델에 predict하여 계절별 사망률 예측을 평가하고자 하였으나,  \n",
    "2020년 1~2월 등은 코로나 전파 초창기로 인해 학습할 수 있는 감염 인원 모집단이 매우 적어  \n",
    "사망률 예측치가 매우 과대해지는 경우(25%)가 존재하여 해당 내용은 제외하였습니다."
   ]
  },
  {
   "cell_type": "markdown",
   "id": "08e1e698",
   "metadata": {},
   "source": [
    "감사합니다!"
   ]
  }
 ],
 "metadata": {
  "kernelspec": {
   "display_name": "Python 3",
   "language": "python",
   "name": "python3"
  },
  "language_info": {
   "codemirror_mode": {
    "name": "ipython",
    "version": 3
   },
   "file_extension": ".py",
   "mimetype": "text/x-python",
   "name": "python",
   "nbconvert_exporter": "python",
   "pygments_lexer": "ipython3",
   "version": "3.8.8"
  },
  "toc": {
   "base_numbering": 1,
   "nav_menu": {},
   "number_sections": true,
   "sideBar": true,
   "skip_h1_title": false,
   "title_cell": "Table of Contents",
   "title_sidebar": "Contents",
   "toc_cell": false,
   "toc_position": {
    "height": "calc(100% - 180px)",
    "left": "10px",
    "top": "150px",
    "width": "165px"
   },
   "toc_section_display": true,
   "toc_window_display": true
  }
 },
 "nbformat": 4,
 "nbformat_minor": 5
}
